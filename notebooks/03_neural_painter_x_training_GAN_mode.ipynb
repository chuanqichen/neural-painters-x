{
  "nbformat": 4,
  "nbformat_minor": 0,
  "metadata": {
    "colab": {
      "name": "03_neural-painter-x-training-GAN-mode.ipynb",
      "version": "0.3.2",
      "provenance": [],
      "collapsed_sections": [],
      "toc_visible": true,
      "include_colab_link": true
    },
    "kernelspec": {
      "name": "python3",
      "display_name": "Python 3"
    },
    "accelerator": "GPU"
  },
  "cells": [
    {
      "cell_type": "markdown",
      "metadata": {
        "id": "view-in-github",
        "colab_type": "text"
      },
      "source": [
        "<a href=\"https://colab.research.google.com/github/libreai/neural-painter-x/blob/master/notebooks/03_neural_painter_x_training_GAN_mode.ipynb\" target=\"_parent\"><img src=\"https://colab.research.google.com/assets/colab-badge.svg\" alt=\"Open In Colab\"/></a>"
      ]
    },
    {
      "cell_type": "markdown",
      "metadata": {
        "id": "l6EgHLM-Y9qj",
        "colab_type": "text"
      },
      "source": [
        "# The Joy of Neural Painting (3/4)\n",
        "\n",
        "[Neural Painters](https://arxiv.org/abs/1904.08410) [1] are a class of models that can be seen as a fully differentiable simulation of a particular non-differentiable painting program, in other words, the machine \"paints\" by successively generating brushstrokes (i.e., actions that defines a brushstrokes) and applying them on a canvas, as an artist would do.\n",
        "\n",
        "---\n",
        "\n",
        "[1] *Neural Painters: A Learned Differentiable Constraint for Generating Brushstroke Paintings*. Reiichiro Nakano. arXiv preprint [arXiv:1904.08410](https://arxiv.org/abs/1904.08410), 2019."
      ]
    },
    {
      "cell_type": "markdown",
      "metadata": {
        "id": "190FSD5ntRmz",
        "colab_type": "text"
      },
      "source": [
        "# Transfer Learning for Adversarial Training (GAN mode) \n",
        "\n",
        "In this final stage, we continue the `Generator` and `Criti`c training in a GAN setting. The pre-trained `Generator` and `Critic` are already doing a descent work independently, *we transfer their knowledge*, in their respective tasks, and hook them up in a GAN setting to fine tune their their model weights."
      ]
    },
    {
      "cell_type": "markdown",
      "metadata": {
        "id": "3oH7xkfZ6WUY",
        "colab_type": "text"
      },
      "source": [
        "<center><img src=\"https://raw.githubusercontent.com/libreai/neural-painter-x/master/images/neural_painter_generator_adversarial.jpg\" width=\"80%\"/></center>"
      ]
    },
    {
      "cell_type": "code",
      "metadata": {
        "id": "iqMfd73h25Lb",
        "colab_type": "code",
        "outputId": "1d7fbca2-c779-49b0-9491-a2a25222e969",
        "colab": {
          "base_uri": "https://localhost:8080/",
          "height": 34
        }
      },
      "source": [
        "import torch\n",
        "import torch.nn as nn\n",
        "import torch.nn.functional as F\n",
        "import torchvision.transforms.functional as VF\n",
        "import torch.optim as optim\n",
        "import fastai\n",
        "import numpy as np\n",
        "import matplotlib.pyplot as plt\n",
        "import time\n",
        "import json\n",
        "import PIL\n",
        "import os\n",
        "\n",
        "from torchvision import datasets, transforms\n",
        "from torchvision.utils import save_image\n",
        "from torch.autograd import Variable\n",
        "from torch.utils.data import TensorDataset, DataLoader\n",
        "from glob import glob\n",
        "from torchvision import models\n",
        "from pathlib import Path\n",
        "from IPython.display import display, clear_output\n",
        "\n",
        "# from fastai.vision import *\n",
        "from fastai.torch_core import requires_grad, children\n",
        "from fastai.vision.gan import basic_generator, gan_critic\n",
        "from fastai.callbacks import hook_outputs\n",
        "\n",
        "print('torch.__version__', torch.__version__)\n"
      ],
      "execution_count": 0,
      "outputs": [
        {
          "output_type": "stream",
          "text": [
            "torch.__version__ 1.1.0\n"
          ],
          "name": "stdout"
        }
      ]
    },
    {
      "cell_type": "markdown",
      "metadata": {
        "id": "yX2XanIzZE-z",
        "colab_type": "text"
      },
      "source": [
        "# Dataset"
      ]
    },
    {
      "cell_type": "markdown",
      "metadata": {
        "id": "BY9tm7jgZxQc",
        "colab_type": "text"
      },
      "source": [
        "For the purposes of this excercise we will use a collection of 100K brushstrokes, that is a single `episodes` file from the full `neural-painters` dataset available in Kaggle: https://www.kaggle.com/reiinakano/mypaint_brushstrokes\n",
        "\n",
        "We have made available a file using Google Drive: [episodes_2.npz](https://drive.google.com/a/libreai.com/uc?id=1KaXpNIwrdWPXVJmMXCR2YEoTW5BsDXzQ&export=download). Given its size (196M) `wget` or `curl` will fail because of the security warning from Google Drive, we will therefore go with [gdwon](https://pypi.org/project/gdown/) to download it. \n",
        "\n",
        "Note we are using a different file here than the one used for pre-training the `Generator` and `Critic`. "
      ]
    },
    {
      "cell_type": "code",
      "metadata": {
        "id": "KvSYRaO0Ymc7",
        "colab_type": "code",
        "outputId": "74c1bcc9-5e49-4fd5-a74a-2f5b1477cb68",
        "colab": {
          "base_uri": "https://localhost:8080/",
          "height": 153
        }
      },
      "source": [
        "!pip install gdown"
      ],
      "execution_count": 0,
      "outputs": [
        {
          "output_type": "stream",
          "text": [
            "Requirement already satisfied: gdown in /usr/local/lib/python3.6/dist-packages (3.6.4)\n",
            "Requirement already satisfied: six in /usr/local/lib/python3.6/dist-packages (from gdown) (1.12.0)\n",
            "Requirement already satisfied: requests in /usr/local/lib/python3.6/dist-packages (from gdown) (2.21.0)\n",
            "Requirement already satisfied: tqdm in /usr/local/lib/python3.6/dist-packages (from gdown) (4.28.1)\n",
            "Requirement already satisfied: urllib3<1.25,>=1.21.1 in /usr/local/lib/python3.6/dist-packages (from requests->gdown) (1.24.3)\n",
            "Requirement already satisfied: certifi>=2017.4.17 in /usr/local/lib/python3.6/dist-packages (from requests->gdown) (2019.6.16)\n",
            "Requirement already satisfied: chardet<3.1.0,>=3.0.2 in /usr/local/lib/python3.6/dist-packages (from requests->gdown) (3.0.4)\n",
            "Requirement already satisfied: idna<2.9,>=2.5 in /usr/local/lib/python3.6/dist-packages (from requests->gdown) (2.8)\n"
          ],
          "name": "stdout"
        }
      ]
    },
    {
      "cell_type": "code",
      "metadata": {
        "id": "i2UQMQEtZwRU",
        "colab_type": "code",
        "outputId": "2f9ce438-9e39-4788-837e-b2accd6c19b4",
        "colab": {
          "base_uri": "https://localhost:8080/",
          "height": 85
        }
      },
      "source": [
        "# create a folder called `data` and donwload the dataset there\n",
        "!mkdir data; cd data; gdown https://drive.google.com/uc?id=1KaXpNIwrdWPXVJmMXCR2YEoTW5BsDXzQ&export=download"
      ],
      "execution_count": 0,
      "outputs": [
        {
          "output_type": "stream",
          "text": [
            "Downloading...\n",
            "From: https://drive.google.com/uc?id=1KaXpNIwrdWPXVJmMXCR2YEoTW5BsDXzQ\n",
            "To: /content/data/episodes_2.npz\n",
            "205MB [00:02, 99.2MB/s]\n"
          ],
          "name": "stdout"
        }
      ]
    },
    {
      "cell_type": "code",
      "metadata": {
        "id": "_wVj3MwQgFBH",
        "colab_type": "code",
        "colab": {}
      },
      "source": [
        "data_fname = 'episodes_2.npz'\n",
        "loaded = np.load('data/' + data_fname)"
      ],
      "execution_count": 0,
      "outputs": []
    },
    {
      "cell_type": "code",
      "metadata": {
        "id": "fmXnK6FP1AWu",
        "colab_type": "code",
        "outputId": "9cab3dd6-f2c5-43f6-86e4-03f5def74581",
        "colab": {
          "base_uri": "https://localhost:8080/",
          "height": 122
        }
      },
      "source": [
        "w=800\n",
        "h=600\n",
        "\n",
        "fig=plt.figure(figsize=(30, 10))\n",
        "cols = 12\n",
        "\n",
        "smaller_arr = loaded['strokes'][:cols]\n",
        "\n",
        "for col in range(cols):\n",
        "    img = smaller_arr[col][:, :, :3]\n",
        "    fig.add_subplot(1, 20, col+1)\n",
        "    plt.grid(False)\n",
        "    plt.imshow(img)\n",
        "plt.show()"
      ],
      "execution_count": 0,
      "outputs": [
        {
          "output_type": "display_data",
          "data": {
            "image/png": "[encoded data removed]",
            "text/plain": [
              "<Figure size 2160x720 with 12 Axes>"
            ]
          },
          "metadata": {
            "tags": []
          }
        }
      ]
    },
    {
      "cell_type": "code",
      "metadata": {
        "id": "Rlx9bLUVgZ8K",
        "colab_type": "code",
        "outputId": "e1784e3c-cf4f-44d1-bae7-8fa7d6e3299e",
        "colab": {
          "base_uri": "https://localhost:8080/",
          "height": 170
        }
      },
      "source": [
        "loaded['actions'][:cols]"
      ],
      "execution_count": 0,
      "outputs": [
        {
          "output_type": "execute_result",
          "data": {
            "text/plain": [
              "array([[0.330522, 0.249296, 0.638134, 0.656268, ..., 0.38073 , 0.896127, 0.924754, 0.466711],\n",
              "       [0.72314 , 0.260811, 0.776887, 0.059226, ..., 0.559846, 0.741848, 0.114233, 0.203668],\n",
              "       [0.992721, 0.830709, 0.019449, 0.30396 , ..., 0.821641, 0.674657, 0.922126, 0.893378],\n",
              "       [0.174172, 0.807182, 0.734837, 0.432679, ..., 0.718031, 0.459332, 0.69727 , 0.848882],\n",
              "       ...,\n",
              "       [0.234808, 0.834783, 0.7658  , 0.520075, ..., 0.341833, 0.937458, 0.986008, 0.497608],\n",
              "       [0.295077, 0.680203, 0.709675, 0.272433, ..., 0.458307, 0.830108, 0.251563, 0.731567],\n",
              "       [0.227581, 0.703463, 0.452308, 0.504263, ..., 0.88884 , 0.30347 , 0.054811, 0.541374],\n",
              "       [0.41137 , 0.667527, 0.380177, 0.360587, ..., 0.664123, 0.001316, 0.249934, 0.20228 ]])"
            ]
          },
          "metadata": {
            "tags": []
          },
          "execution_count": 10
        }
      ]
    },
    {
      "cell_type": "markdown",
      "metadata": {
        "id": "kc60Vmq8gmMn",
        "colab_type": "text"
      },
      "source": [
        "# Building Blocks"
      ]
    },
    {
      "cell_type": "code",
      "metadata": {
        "id": "GxTY6RH3OyI7",
        "colab_type": "code",
        "colab": {}
      },
      "source": [
        "class Params():\n",
        "    def __init__(self):\n",
        "        super(Params)"
      ],
      "execution_count": 0,
      "outputs": []
    },
    {
      "cell_type": "code",
      "metadata": {
        "colab_type": "code",
        "id": "5Of--4YTGCHf",
        "colab": {}
      },
      "source": [
        "params = Params()\n",
        "\n",
        "params.condition_dim = 12\n",
        "params.noise_dim = 0\n",
        "params.image_size = 64\n",
        "params.channels = 3\n",
        "params.batch_size = 256\n",
        "#params.lr = 1e-3\n",
        "params.lr = 1e-4\n",
        "params.train_epochs = 1\n",
        "params.fc_dim = int(params.image_size * params.image_size)\n"
      ],
      "execution_count": 0,
      "outputs": []
    },
    {
      "cell_type": "markdown",
      "metadata": {
        "colab_type": "text",
        "id": "o79aLCKpEHWY"
      },
      "source": [
        "## The Generator"
      ]
    },
    {
      "cell_type": "markdown",
      "metadata": {
        "colab_type": "text",
        "id": "8VY-efuhEGth"
      },
      "source": [
        "The `Generator` is defined as a `[Linear Layer](https://pytorch.org/docs/stable/nn.html#linear)` followed by a [`Deep Convolutional Neural Network`](https://docs.fast.ai/vision.gan.html#basic_generator)"
      ]
    },
    {
      "cell_type": "code",
      "metadata": {
        "id": "rnf_Kf7i3awy",
        "colab_type": "code",
        "colab": {}
      },
      "source": [
        "class GeneratorX(nn.Module):\n",
        "\n",
        "    def __init__(self, condition_dim, fc_dim, in_size, n_channels, n_extra_layers):\n",
        "        super(GeneratorX, self).__init__()\n",
        "        self.fc = nn.Linear(condition_dim, fc_dim)\n",
        "        self.generator = basic_generator(in_size=in_size, n_channels=n_channels, n_extra_layers=n_extra_layers, noise_sz=fc_dim)\n",
        "\n",
        "    def forward(self, x):\n",
        "        x = self.fc(x)\n",
        "        x = self.generator(x.view(x.size(0), x.size(1), 1, 1))\n",
        "        return x\n",
        "\n"
      ],
      "execution_count": 0,
      "outputs": []
    },
    {
      "cell_type": "code",
      "metadata": {
        "colab_type": "code",
        "outputId": "6ed2fe87-0107-451f-da2e-fd36e3c4d8ac",
        "id": "ReRF2nOKF0bM",
        "colab": {
          "base_uri": "https://localhost:8080/",
          "height": 561
        }
      },
      "source": [
        "generator = GeneratorX(condition_dim=params.condition_dim,\n",
        "                fc_dim=params.fc_dim,\n",
        "                in_size=params.image_size,\n",
        "                n_channels=params.channels,\n",
        "                n_extra_layers=1\n",
        "               )\n",
        "\n",
        "generator"
      ],
      "execution_count": 0,
      "outputs": [
        {
          "output_type": "execute_result",
          "data": {
            "text/plain": [
              "GeneratorX(\n",
              "  (fc): Linear(in_features=12, out_features=4096, bias=True)\n",
              "  (generator): Sequential(\n",
              "    (0): Sequential(\n",
              "      (0): ConvTranspose2d(4096, 512, kernel_size=(4, 4), stride=(1, 1), bias=False)\n",
              "      (1): ReLU(inplace)\n",
              "      (2): BatchNorm2d(512, eps=1e-05, momentum=0.1, affine=True, track_running_stats=True)\n",
              "    )\n",
              "    (1): Sequential(\n",
              "      (0): ConvTranspose2d(512, 256, kernel_size=(4, 4), stride=(2, 2), padding=(1, 1), bias=False)\n",
              "      (1): ReLU(inplace)\n",
              "      (2): BatchNorm2d(256, eps=1e-05, momentum=0.1, affine=True, track_running_stats=True)\n",
              "    )\n",
              "    (2): Sequential(\n",
              "      (0): ConvTranspose2d(256, 128, kernel_size=(4, 4), stride=(2, 2), padding=(1, 1), bias=False)\n",
              "      (1): ReLU(inplace)\n",
              "      (2): BatchNorm2d(128, eps=1e-05, momentum=0.1, affine=True, track_running_stats=True)\n",
              "    )\n",
              "    (3): Sequential(\n",
              "      (0): ConvTranspose2d(128, 64, kernel_size=(4, 4), stride=(2, 2), padding=(1, 1), bias=False)\n",
              "      (1): ReLU(inplace)\n",
              "      (2): BatchNorm2d(64, eps=1e-05, momentum=0.1, affine=True, track_running_stats=True)\n",
              "    )\n",
              "    (4): Sequential(\n",
              "      (0): ConvTranspose2d(64, 64, kernel_size=(3, 3), stride=(1, 1), padding=(1, 1), bias=False)\n",
              "      (1): ReLU(inplace)\n",
              "      (2): BatchNorm2d(64, eps=1e-05, momentum=0.1, affine=True, track_running_stats=True)\n",
              "    )\n",
              "    (5): ConvTranspose2d(64, 3, kernel_size=(4, 4), stride=(2, 2), padding=(1, 1), bias=False)\n",
              "    (6): Tanh()\n",
              "  )\n",
              ")"
            ]
          },
          "metadata": {
            "tags": []
          },
          "execution_count": 15
        }
      ]
    },
    {
      "cell_type": "markdown",
      "metadata": {
        "id": "ii3U2s3iE1Ue",
        "colab_type": "text"
      },
      "source": [
        "## The Critic"
      ]
    },
    {
      "cell_type": "code",
      "metadata": {
        "id": "-a05o2AsFFQ0",
        "colab_type": "code",
        "outputId": "a6818e08-8037-4416-ad63-f1ee7bc11601",
        "colab": {
          "base_uri": "https://localhost:8080/",
          "height": 765
        }
      },
      "source": [
        "critic = gan_critic(nf=64)\n",
        "critic"
      ],
      "execution_count": 0,
      "outputs": [
        {
          "output_type": "execute_result",
          "data": {
            "text/plain": [
              "Sequential(\n",
              "  (0): Sequential(\n",
              "    (0): Conv2d(3, 64, kernel_size=(4, 4), stride=(2, 2), padding=(1, 1))\n",
              "    (1): LeakyReLU(negative_slope=0.2, inplace)\n",
              "  )\n",
              "  (1): Dropout2d(p=0.075)\n",
              "  (2): SequentialEx(\n",
              "    (layers): ModuleList(\n",
              "      (0): Sequential(\n",
              "        (0): Conv2d(64, 64, kernel_size=(3, 3), stride=(1, 1), padding=(1, 1))\n",
              "        (1): LeakyReLU(negative_slope=0.2, inplace)\n",
              "      )\n",
              "      (1): Sequential(\n",
              "        (0): Conv2d(64, 64, kernel_size=(3, 3), stride=(1, 1), padding=(1, 1))\n",
              "        (1): LeakyReLU(negative_slope=0.2, inplace)\n",
              "      )\n",
              "      (2): MergeLayer()\n",
              "    )\n",
              "  )\n",
              "  (3): Dropout2d(p=0.15)\n",
              "  (4): Sequential(\n",
              "    (0): Conv2d(128, 256, kernel_size=(4, 4), stride=(2, 2), padding=(1, 1))\n",
              "    (1): LeakyReLU(negative_slope=0.2, inplace)\n",
              "    (2): SelfAttention(\n",
              "      (query): Conv1d(256, 32, kernel_size=(1,), stride=(1,), bias=False)\n",
              "      (key): Conv1d(256, 32, kernel_size=(1,), stride=(1,), bias=False)\n",
              "      (value): Conv1d(256, 256, kernel_size=(1,), stride=(1,), bias=False)\n",
              "    )\n",
              "  )\n",
              "  (5): Dropout2d(p=0.15)\n",
              "  (6): Sequential(\n",
              "    (0): Conv2d(256, 512, kernel_size=(4, 4), stride=(2, 2), padding=(1, 1))\n",
              "    (1): LeakyReLU(negative_slope=0.2, inplace)\n",
              "  )\n",
              "  (7): Dropout2d(p=0.15)\n",
              "  (8): Sequential(\n",
              "    (0): Conv2d(512, 1024, kernel_size=(4, 4), stride=(2, 2), padding=(1, 1))\n",
              "    (1): LeakyReLU(negative_slope=0.2, inplace)\n",
              "  )\n",
              "  (9): Sequential(\n",
              "    (0): Conv2d(1024, 1, kernel_size=(4, 4), stride=(1, 1), bias=False)\n",
              "  )\n",
              "  (10): Flatten()\n",
              ")"
            ]
          },
          "metadata": {
            "tags": []
          },
          "execution_count": 24
        }
      ]
    },
    {
      "cell_type": "markdown",
      "metadata": {
        "id": "x4rbgf0kg5No",
        "colab_type": "text"
      },
      "source": [
        "## The Feature Loss"
      ]
    },
    {
      "cell_type": "markdown",
      "metadata": {
        "id": "HRLiO0tMg_cI",
        "colab_type": "text"
      },
      "source": [
        "Using a VGG16 model as Feature Extractor"
      ]
    },
    {
      "cell_type": "code",
      "metadata": {
        "id": "V6-QIDwwcyLB",
        "colab_type": "code",
        "outputId": "f2be09e4-c6c9-467a-8533-937b6aa5ae95",
        "colab": {
          "base_uri": "https://localhost:8080/",
          "height": 68
        }
      },
      "source": [
        "vgg_m = models.vgg16_bn(True).features.cuda().eval()\n",
        "requires_grad(vgg_m, False)\n",
        "blocks = [i-1 for i,o in enumerate(children(vgg_m)) if isinstance(o, nn.MaxPool2d)]\n",
        "blocks"
      ],
      "execution_count": 0,
      "outputs": [
        {
          "output_type": "stream",
          "text": [
            "Downloading: \"https://download.pytorch.org/models/vgg16_bn-6c64b313.pth\" to /root/.cache/torch/checkpoints/vgg16_bn-6c64b313.pth\n",
            "100%|██████████| 553507836/553507836 [00:25<00:00, 21305401.95it/s]\n"
          ],
          "name": "stderr"
        },
        {
          "output_type": "execute_result",
          "data": {
            "text/plain": [
              "[5, 12, 22, 32, 42]"
            ]
          },
          "metadata": {
            "tags": []
          },
          "execution_count": 17
        }
      ]
    },
    {
      "cell_type": "markdown",
      "metadata": {
        "id": "ce0UiYB_iOIl",
        "colab_type": "text"
      },
      "source": [
        "Feature Loss based on the implementation introduced in \n",
        "\n",
        "* Fast.ai MOOC [Lesson 7: Resnets from scratch; U-net; Generative (adversarial) networks.](https://course.fast.ai/videos/?lesson=7). \n",
        "\n",
        "This loss is a variant of `Perceptual Losses` discussed in the paper:\n",
        "\n",
        "* *Perceptual Losses for Real-Time Style Transfer and Super-Resolution*. Justin Johnson, Alexandre Alahi, Li Fei-Fei. https://arxiv.org/abs/1603.08155 , 2016"
      ]
    },
    {
      "cell_type": "code",
      "metadata": {
        "id": "68JwKTtxU5ri",
        "colab_type": "code",
        "colab": {}
      },
      "source": [
        "def gram_matrix(x):\n",
        "    (b, ch, h, w) = x.size()\n",
        "    features = x.view(b, ch, w * h)\n",
        "    features_t = features.transpose(1, 2)\n",
        "    gram = features @ features_t / (ch * h * w)\n",
        "    return gram\n",
        "  \n"
      ],
      "execution_count": 0,
      "outputs": []
    },
    {
      "cell_type": "code",
      "metadata": {
        "id": "fFNBoP64U5xU",
        "colab_type": "code",
        "colab": {}
      },
      "source": [
        "class FeatureLoss(nn.Module):\n",
        "    def __init__(self, feature_extractor, layer_ids, layer_wgts):\n",
        "        super(FeatureLoss, self).__init__()\n",
        "        \n",
        "        # using L1 as base for computing the loss\n",
        "        self.base_loss = F.l1_loss \n",
        "        self.feature_extractor = feature_extractor\n",
        "        self.loss_features = [self.feature_extractor[i] for i in layer_ids]\n",
        "        self.hooks = hook_outputs(self.loss_features, detach=False)\n",
        "        self.wgts = layer_wgts\n",
        "\n",
        "    def make_features(self, x, clone=False):\n",
        "        self.feature_extractor(x)\n",
        "        return [(o.clone() if clone else o) for o in self.hooks.stored]\n",
        "    \n",
        "    def forward(self, input, target):\n",
        "\n",
        "        input_features = self.make_features(input)\n",
        "        target_features = self.make_features(target, clone=True)\n",
        "        \n",
        "        self.feat_losses = []\n",
        "        \n",
        "        self.feat_losses += [self.base_loss(f_in, f_out) * w\n",
        "                             for f_in, f_out, w in zip(input_features, target_features, self.wgts)]\n",
        "        \n",
        "\n",
        "        self.feat_losses += [self.base_loss(gram_matrix(f_in), gram_matrix(f_out)) * w**2 * 5e3\n",
        "                             for f_in, f_out, w in zip(input_features, target_features, self.wgts)]\n",
        "    \n",
        "        self.feat_losses += [self.base_loss(input, target)]\n",
        "                \n",
        "        return sum(self.feat_losses)\n",
        "    \n",
        "    def __del__(self):\n",
        "        self.hooks.remove()\n",
        "        "
      ],
      "execution_count": 0,
      "outputs": []
    },
    {
      "cell_type": "markdown",
      "metadata": {
        "id": "Fi5LpPoRA2xJ",
        "colab_type": "text"
      },
      "source": [
        "---"
      ]
    },
    {
      "cell_type": "markdown",
      "metadata": {
        "id": "j0VRoQgiFCS8",
        "colab_type": "text"
      },
      "source": [
        "## Adversarial Training (GAN mode) "
      ]
    },
    {
      "cell_type": "markdown",
      "metadata": {
        "id": "Y1qKd330FpBR",
        "colab_type": "text"
      },
      "source": [
        "At this stage we have a `generator` and `critic` trained independently. The idea is now to trained them GAN-style in an adversarial fashion to refine the quality to the strokes the `generator` produces.\n",
        "\n",
        "Let's load the pre-trained `Generator` and `Critic`."
      ]
    },
    {
      "cell_type": "code",
      "metadata": {
        "id": "UKnqzKyJH1il",
        "colab_type": "code",
        "outputId": "47a7503d-f851-49ce-d410-ff338f0703b7",
        "colab": {
          "base_uri": "https://localhost:8080/",
          "height": 153
        }
      },
      "source": [
        "# In case you don't have your `Generator` and `Critic` from the previous steps, you can\n",
        "# dowload the ones we trained uncommenting the following lines:\n",
        "# !mkdir models\n",
        "# !cd models; gdown https://drive.google.com/uc?id=1knOYFm-PBk0ovwPoVjV5ivc6-ts-8eHG\n",
        "# !cd models; gdown https://drive.google.com/uc?id=1wC0ewdNGHVC8QUsp8M7mVPZANsjTGg2s"
      ],
      "execution_count": 0,
      "outputs": [
        {
          "output_type": "stream",
          "text": [
            "Downloading...\n",
            "From: https://drive.google.com/uc?id=1knOYFm-PBk0ovwPoVjV5ivc6-ts-8eHG\n",
            "To: /content/models/neural_painter_x_non_adversarial_generator_param.pth\n",
            "146MB [00:01, 87.2MB/s]\n",
            "Downloading...\n",
            "From: https://drive.google.com/uc?id=1wC0ewdNGHVC8QUsp8M7mVPZANsjTGg2s\n",
            "To: /content/models/neural_painter_x_non_adversarial_critic_param.pth\n",
            "44.9MB [00:01, 44.1MB/s]\n"
          ],
          "name": "stdout"
        }
      ]
    },
    {
      "cell_type": "code",
      "metadata": {
        "id": "louwvspCHQUn",
        "colab_type": "code",
        "outputId": "a785c91d-5836-402e-8fe3-cd0c99302948",
        "colab": {
          "base_uri": "https://localhost:8080/",
          "height": 51
        }
      },
      "source": [
        "! ls ./models"
      ],
      "execution_count": 0,
      "outputs": [
        {
          "output_type": "stream",
          "text": [
            "neural_painter_x_non_adversarial_critic_param.pth\n",
            "neural_painter_x_non_adversarial_generator_param.pth\n"
          ],
          "name": "stdout"
        }
      ]
    },
    {
      "cell_type": "code",
      "metadata": {
        "id": "NGyVKOhqJPsI",
        "colab_type": "code",
        "colab": {}
      },
      "source": [
        "models_base_path = './models/'"
      ],
      "execution_count": 0,
      "outputs": []
    },
    {
      "cell_type": "code",
      "metadata": {
        "id": "BDtK-c7BHkzG",
        "colab_type": "code",
        "colab": {}
      },
      "source": [
        "# Load the pre-trained Generator parameters\n",
        "gen_path = 'neural_painter_x_non_adversarial_generator_param.pth'\n",
        "generator.load_state_dict(torch.load(models_base_path + gen_path))\n",
        "generator.cuda()\n",
        "\n",
        "# Adam optimizer\n",
        "gen_optimizer = optim.Adam(generator.parameters(), lr=params.lr, betas=(0.5, 0.9))"
      ],
      "execution_count": 0,
      "outputs": []
    },
    {
      "cell_type": "code",
      "metadata": {
        "id": "uEE7g_MxHlii",
        "colab_type": "code",
        "colab": {}
      },
      "source": [
        "# Load the pre-trained Critic parameters\n",
        "\n",
        "critic_path = 'neural_painter_x_non_adversarial_critic_param.pth'\n",
        "critic.load_state_dict(torch.load(models_base_path + critic_path))\n",
        "critic.cuda()\n",
        "\n",
        "# Adam optimizer\n",
        "critic_optimizer = optim.Adam(critic.parameters(), lr=params.lr, betas=(0.5, 0.9))"
      ],
      "execution_count": 0,
      "outputs": []
    },
    {
      "cell_type": "code",
      "metadata": {
        "id": "GX-siADFCikI",
        "colab_type": "code",
        "colab": {}
      },
      "source": [
        "# The loss functions\n",
        "\n",
        "bce_loss = torch.nn.functional.binary_cross_entropy\n",
        "feature_loss = FeatureLoss(vgg_m, blocks[2:5], [5,15,2])"
      ],
      "execution_count": 0,
      "outputs": []
    },
    {
      "cell_type": "code",
      "metadata": {
        "colab_type": "code",
        "id": "WAXcsolvU-6b",
        "colab": {}
      },
      "source": [
        "strokes = loaded['strokes']\n",
        "conditions = loaded['actions']\n",
        "\n",
        "strokes_tfms = transforms.Compose([transforms.Lambda(lambda x: x.float()),\n",
        "                                   transforms.Lambda(lambda x: x.div_(255))\n",
        "                                  ])\n",
        "\n",
        "strokes = torch.stack([torch.from_numpy(s).permute(2, 0, 1) for s in strokes])\n",
        "conditions = torch.stack([torch.from_numpy(c).float() for c in conditions])\n",
        "\n",
        "dataset = TensorDataset(strokes, conditions)\n",
        "dataloader = DataLoader(dataset, batch_size=params.batch_size, shuffle=False)"
      ],
      "execution_count": 0,
      "outputs": []
    },
    {
      "cell_type": "code",
      "metadata": {
        "id": "dcKy6Z5GJAbf",
        "colab_type": "code",
        "outputId": "a89ce7b4-2bf2-44a6-95e3-51b7cbcd5933",
        "colab": {
          "base_uri": "https://localhost:8080/",
          "height": 1000
        }
      },
      "source": [
        "# results save folder\n",
        "root = './models/'\n",
        "model = 'neuro_painter_x_'\n",
        "\n",
        "if not os.path.isdir(root):\n",
        "    os.mkdir(root)\n",
        "    \n",
        "critic_losses = []\n",
        "generator_losses = []\n",
        "\n",
        "print('training start!')\n",
        "start_time = time.time()\n",
        "\n",
        "for epoch in range(params.train_epochs):\n",
        "  epoch_start_time = time.time()\n",
        "\n",
        "  for num_iter, (stroke, condition) in enumerate(dataloader):  \n",
        "    condition = condition.cuda()\n",
        "    stroke = torch.stack([strokes_tfms(s) for s in stroke]).cuda()\n",
        "\n",
        "    batch_size = stroke.shape[0]\n",
        "\n",
        "    # ground truths\n",
        "    \n",
        "    valid = torch.ones((batch_size, 1), dtype=torch.float, requires_grad=False).cuda()\n",
        "    \n",
        "    fake = torch.zeros((batch_size, 1), dtype=torch.float, requires_grad=False).cuda()\n",
        "\n",
        "    # -----------------\n",
        "    #  Train Critic\n",
        "    # -----------------\n",
        "    critic_optimizer.zero_grad()\n",
        "\n",
        "    # computing the loss for true strokes\n",
        "    critic_true_preds = torch.sigmoid(critic(stroke))\n",
        "    critic_true_loss = bce_loss(critic_true_preds, valid)\n",
        "\n",
        "    # computing the loss for generated (aka fake) strokes\n",
        "    generated_stroke = generator(condition)\n",
        "    critic_fake_preds = torch.sigmoid(critic(generated_stroke))\n",
        "    critic_fake_loss = bce_loss(critic_fake_preds, fake)\n",
        "\n",
        "    # taking the tarain loss as the average\n",
        "    critic_train_loss = (critic_true_loss + critic_fake_loss) / 2.\n",
        "\n",
        "    critic_train_loss.backward()\n",
        "    critic_optimizer.step()\n",
        "\n",
        "    critic_losses.append(critic_train_loss.data.item())\n",
        "\n",
        "    # -----------------\n",
        "    #  Train Generator\n",
        "    # -----------------\n",
        "\n",
        "    gen_optimizer.zero_grad()\n",
        "\n",
        "    generated_stroke = generator(condition)\n",
        "    critic_preds = torch.sigmoid(critic(generated_stroke))\n",
        "\n",
        "    gen_train_loss = (bce_loss(critic_preds, valid) + feature_loss(generated_stroke, stroke)) / 2\n",
        "\n",
        "    gen_train_loss.backward()\n",
        "    gen_optimizer.step()\n",
        "\n",
        "    generator_losses.append(gen_train_loss.data.item())\n",
        "\n",
        "\n",
        "    if (num_iter % 25) == 0:\n",
        "        print('epoch {}/{} | {}/{} complete!'.format((epoch + 1), \n",
        "                                                     (params.train_epochs),\n",
        "                                                     (num_iter+1), \n",
        "                                                     len(dataloader)))\n",
        "        print('critic loss: {}'.format(torch.mean(torch.FloatTensor(critic_losses)).item()))\n",
        "        print('generator loss: {}'.format(torch.mean(torch.FloatTensor(generator_losses)).item()))\n",
        "        # ---\n",
        "        s = stroke[0].clone().cpu()\n",
        "        print('true')\n",
        "        print('critic pred:', critic_true_preds[0].item(), '(true=1)')\n",
        "        display(VF.to_pil_image(s))\n",
        "        print('---')\n",
        "        g = generated_stroke[0].clone().cpu()\n",
        "        print('pred')\n",
        "        print('critic pred:', critic_preds[0].item(), '(true=0)')\n",
        "        display(VF.to_pil_image(g))\n",
        "        print('---')\n",
        "\n",
        "  epoch_end_time = time.time()\n",
        "  per_epoch_ptime = epoch_end_time - epoch_start_time\n",
        "\n",
        "  print('[%d/%d] - ptime: %.2f, generator loss: %.3f' % ((epoch + 1),\n",
        "                                               params.train_epochs,\n",
        "                                               per_epoch_ptime,\n",
        "                                               torch.mean(torch.FloatTensor(generator_losses)).item()))\n",
        "\n",
        "\n",
        "print('Saving Generator and Critic')\n",
        "torch.save(critic.state_dict(), root + model + 'final' + '_GAN_critic_param.pth')      \n",
        "torch.save(generator.state_dict(), root + model + 'final' + '_GAN_generator_param.pth')      \n",
        "print('done')"
      ],
      "execution_count": 0,
      "outputs": [
        {
          "output_type": "stream",
          "text": [
            "training start!\n",
            "epoch 1/1 | 1/391 complete!\n",
            "critic loss: 0.2502670884132385\n",
            "generator loss: 3.0008692741394043\n",
            "true\n",
            "critic pred: 0.9999898672103882 (true=1)\n",
            "torch.Size([3, 64, 64])\n"
          ],
          "name": "stdout"
        },
        {
          "output_type": "display_data",
          "data": {
            "image/png": "[encoded data removed]",
            "text/plain": [
              "<PIL.Image.Image image mode=RGB size=64x64 at 0x7F86F9469668>"
            ]
          },
          "metadata": {
            "tags": []
          }
        },
        {
          "output_type": "stream",
          "text": [
            "pred\n",
            "critic pred: 0.001885963836684823 (true=0)\n",
            "torch.Size([3, 64, 64])\n"
          ],
          "name": "stdout"
        },
        {
          "output_type": "display_data",
          "data": {
            "image/png": "[encoded data removed]",
            "text/plain": [
              "<PIL.Image.Image image mode=RGB size=64x64 at 0x7F86F94695F8>"
            ]
          },
          "metadata": {
            "tags": []
          }
        },
        {
          "output_type": "stream",
          "text": [
            "---\n",
            "epoch 1/1 | 26/391 complete!\n",
            "critic loss: 0.5253387093544006\n",
            "generator loss: 1.818426251411438\n",
            "true\n",
            "critic pred: 0.5630504488945007 (true=1)\n",
            "torch.Size([3, 64, 64])\n"
          ],
          "name": "stdout"
        },
        {
          "output_type": "display_data",
          "data": {
            "image/png": "[encoded data removed]",
            "text/plain": [
              "<PIL.Image.Image image mode=RGB size=64x64 at 0x7F86F94695C0>"
            ]
          },
          "metadata": {
            "tags": []
          }
        },
        {
          "output_type": "stream",
          "text": [
            "pred\n",
            "critic pred: 0.3330579102039337 (true=0)\n",
            "torch.Size([3, 64, 64])\n"
          ],
          "name": "stdout"
        },
        {
          "output_type": "display_data",
          "data": {
            "image/png": "[encoded data removed]",
            "text/plain": [
              "<PIL.Image.Image image mode=RGB size=64x64 at 0x7F86F9469668>"
            ]
          },
          "metadata": {
            "tags": []
          }
        },
        {
          "output_type": "stream",
          "text": [
            "---\n",
            "epoch 1/1 | 51/391 complete!\n",
            "critic loss: 0.6057736873626709\n",
            "generator loss: 1.4319829940795898\n",
            "true\n",
            "critic pred: 0.5302298665046692 (true=1)\n",
            "torch.Size([3, 64, 64])\n"
          ],
          "name": "stdout"
        },
        {
          "output_type": "display_data",
          "data": {
            "image/png": "[encoded data removed]",
            "text/plain": [
              "<PIL.Image.Image image mode=RGB size=64x64 at 0x7F86F94696D8>"
            ]
          },
          "metadata": {
            "tags": []
          }
        },
        {
          "output_type": "stream",
          "text": [
            "pred\n",
            "critic pred: 0.48086392879486084 (true=0)\n",
            "torch.Size([3, 64, 64])\n"
          ],
          "name": "stdout"
        },
        {
          "output_type": "display_data",
          "data": {
            "image/png": "[encoded data removed]",
            "text/plain": [
              "<PIL.Image.Image image mode=RGB size=64x64 at 0x7F86F9469780>"
            ]
          },
          "metadata": {
            "tags": []
          }
        },
        {
          "output_type": "stream",
          "text": [
            "---\n",
            "epoch 1/1 | 76/391 complete!\n",
            "critic loss: 0.6332395672798157\n",
            "generator loss: 1.285575270652771\n",
            "true\n",
            "critic pred: 0.504852294921875 (true=1)\n",
            "torch.Size([3, 64, 64])\n"
          ],
          "name": "stdout"
        },
        {
          "output_type": "display_data",
          "data": {
            "image/png": "[encoded data removed]",
            "text/plain": [
              "<PIL.Image.Image image mode=RGB size=64x64 at 0x7F86F9469710>"
            ]
          },
          "metadata": {
            "tags": []
          }
        },
        {
          "output_type": "stream",
          "text": [
            "pred\n",
            "critic pred: 0.5106377601623535 (true=0)\n",
            "torch.Size([3, 64, 64])\n"
          ],
          "name": "stdout"
        },
        {
          "output_type": "display_data",
          "data": {
            "image/png": "[encoded data removed]",
            "text/plain": [
              "<PIL.Image.Image image mode=RGB size=64x64 at 0x7F86F9469780>"
            ]
          },
          "metadata": {
            "tags": []
          }
        },
        {
          "output_type": "stream",
          "text": [
            "---\n",
            "epoch 1/1 | 101/391 complete!\n",
            "critic loss: 0.6497037410736084\n",
            "generator loss: 1.20392906665802\n",
            "true\n",
            "critic pred: 0.4989301264286041 (true=1)\n",
            "torch.Size([3, 64, 64])\n"
          ],
          "name": "stdout"
        },
        {
          "output_type": "display_data",
          "data": {
            "image/png": "[encoded data removed]",
            "text/plain": [
              "<PIL.Image.Image image mode=RGB size=64x64 at 0x7F86F9469748>"
            ]
          },
          "metadata": {
            "tags": []
          }
        },
        {
          "output_type": "stream",
          "text": [
            "pred\n",
            "critic pred: 0.46989643573760986 (true=0)\n",
            "torch.Size([3, 64, 64])\n"
          ],
          "name": "stdout"
        },
        {
          "output_type": "display_data",
          "data": {
            "image/png": "[encoded data removed]",
            "text/plain": [
              "<PIL.Image.Image image mode=RGB size=64x64 at 0x7F86F9469908>"
            ]
          },
          "metadata": {
            "tags": []
          }
        },
        {
          "output_type": "stream",
          "text": [
            "---\n",
            "epoch 1/1 | 126/391 complete!\n",
            "critic loss: 0.6594478487968445\n",
            "generator loss: 1.151970386505127\n",
            "true\n",
            "critic pred: 0.5115633606910706 (true=1)\n",
            "torch.Size([3, 64, 64])\n"
          ],
          "name": "stdout"
        },
        {
          "output_type": "display_data",
          "data": {
            "image/png": "[encoded data removed]",
            "text/plain": [
              "<PIL.Image.Image image mode=RGB size=64x64 at 0x7F86F94699E8>"
            ]
          },
          "metadata": {
            "tags": []
          }
        },
        {
          "output_type": "stream",
          "text": [
            "pred\n",
            "critic pred: 0.4735743999481201 (true=0)\n",
            "torch.Size([3, 64, 64])\n"
          ],
          "name": "stdout"
        },
        {
          "output_type": "display_data",
          "data": {
            "image/png": "[encoded data removed]",
            "text/plain": [
              "<PIL.Image.Image image mode=RGB size=64x64 at 0x7F86F9469748>"
            ]
          },
          "metadata": {
            "tags": []
          }
        },
        {
          "output_type": "stream",
          "text": [
            "---\n",
            "epoch 1/1 | 151/391 complete!\n",
            "critic loss: 0.6652382612228394\n",
            "generator loss: 1.1153452396392822\n",
            "true\n",
            "critic pred: 0.4848249554634094 (true=1)\n",
            "torch.Size([3, 64, 64])\n"
          ],
          "name": "stdout"
        },
        {
          "output_type": "display_data",
          "data": {
            "image/png": "[encoded data removed]",
            "text/plain": [
              "<PIL.Image.Image image mode=RGB size=64x64 at 0x7F86F94695C0>"
            ]
          },
          "metadata": {
            "tags": []
          }
        },
        {
          "output_type": "stream",
          "text": [
            "pred\n",
            "critic pred: 0.4662722051143646 (true=0)\n",
            "torch.Size([3, 64, 64])\n"
          ],
          "name": "stdout"
        },
        {
          "output_type": "display_data",
          "data": {
            "image/png": "[encoded data removed]",
            "text/plain": [
              "<PIL.Image.Image image mode=RGB size=64x64 at 0x7F86F94696A0>"
            ]
          },
          "metadata": {
            "tags": []
          }
        },
        {
          "output_type": "stream",
          "text": [
            "---\n",
            "epoch 1/1 | 176/391 complete!\n",
            "critic loss: 0.668915867805481\n",
            "generator loss: 1.0892220735549927\n",
            "true\n",
            "critic pred: 0.5197975039482117 (true=1)\n",
            "torch.Size([3, 64, 64])\n"
          ],
          "name": "stdout"
        },
        {
          "output_type": "display_data",
          "data": {
            "image/png": "[encoded data removed]",
            "text/plain": [
              "<PIL.Image.Image image mode=RGB size=64x64 at 0x7F86F9469630>"
            ]
          },
          "metadata": {
            "tags": []
          }
        },
        {
          "output_type": "stream",
          "text": [
            "pred\n",
            "critic pred: 0.47060924768447876 (true=0)\n",
            "torch.Size([3, 64, 64])\n"
          ],
          "name": "stdout"
        },
        {
          "output_type": "display_data",
          "data": {
            "image/png": "[encoded data removed]",
            "text/plain": [
              "<PIL.Image.Image image mode=RGB size=64x64 at 0x7F86F94696A0>"
            ]
          },
          "metadata": {
            "tags": []
          }
        },
        {
          "output_type": "stream",
          "text": [
            "---\n",
            "epoch 1/1 | 201/391 complete!\n",
            "critic loss: 0.6716096997261047\n",
            "generator loss: 1.0694748163223267\n",
            "true\n",
            "critic pred: 0.5389976501464844 (true=1)\n",
            "torch.Size([3, 64, 64])\n"
          ],
          "name": "stdout"
        },
        {
          "output_type": "display_data",
          "data": {
            "image/png": "[encoded data removed]",
            "text/plain": [
              "<PIL.Image.Image image mode=RGB size=64x64 at 0x7F86F9469A90>"
            ]
          },
          "metadata": {
            "tags": []
          }
        },
        {
          "output_type": "stream",
          "text": [
            "pred\n",
            "critic pred: 0.4719209372997284 (true=0)\n",
            "torch.Size([3, 64, 64])\n"
          ],
          "name": "stdout"
        },
        {
          "output_type": "display_data",
          "data": {
            "image/png": "[encoded data removed]",
            "text/plain": [
              "<PIL.Image.Image image mode=RGB size=64x64 at 0x7F86F94696A0>"
            ]
          },
          "metadata": {
            "tags": []
          }
        },
        {
          "output_type": "stream",
          "text": [
            "---\n",
            "epoch 1/1 | 226/391 complete!\n",
            "critic loss: 0.6739412546157837\n",
            "generator loss: 1.0541492700576782\n",
            "true\n",
            "critic pred: 0.48447638750076294 (true=1)\n",
            "torch.Size([3, 64, 64])\n"
          ],
          "name": "stdout"
        },
        {
          "output_type": "display_data",
          "data": {
            "image/png": "[encoded data removed]",
            "text/plain": [
              "<PIL.Image.Image image mode=RGB size=64x64 at 0x7F86F9469AC8>"
            ]
          },
          "metadata": {
            "tags": []
          }
        },
        {
          "output_type": "stream",
          "text": [
            "pred\n",
            "critic pred: 0.4831012189388275 (true=0)\n",
            "torch.Size([3, 64, 64])\n"
          ],
          "name": "stdout"
        },
        {
          "output_type": "display_data",
          "data": {
            "image/png": "[encoded data removed]",
            "text/plain": [
              "<PIL.Image.Image image mode=RGB size=64x64 at 0x7F86F94696A0>"
            ]
          },
          "metadata": {
            "tags": []
          }
        },
        {
          "output_type": "stream",
          "text": [
            "---\n",
            "epoch 1/1 | 251/391 complete!\n",
            "critic loss: 0.6756101250648499\n",
            "generator loss: 1.0417890548706055\n",
            "true\n",
            "critic pred: 0.48672646284103394 (true=1)\n",
            "torch.Size([3, 64, 64])\n"
          ],
          "name": "stdout"
        },
        {
          "output_type": "display_data",
          "data": {
            "image/png": "[encoded data removed]",
            "text/plain": [
              "<PIL.Image.Image image mode=RGB size=64x64 at 0x7F86F9469A58>"
            ]
          },
          "metadata": {
            "tags": []
          }
        },
        {
          "output_type": "stream",
          "text": [
            "pred\n",
            "critic pred: 0.4700457751750946 (true=0)\n",
            "torch.Size([3, 64, 64])\n"
          ],
          "name": "stdout"
        },
        {
          "output_type": "display_data",
          "data": {
            "image/png": "[encoded data removed]",
            "text/plain": [
              "<PIL.Image.Image image mode=RGB size=64x64 at 0x7F86F94696A0>"
            ]
          },
          "metadata": {
            "tags": []
          }
        },
        {
          "output_type": "stream",
          "text": [
            "---\n",
            "epoch 1/1 | 276/391 complete!\n",
            "critic loss: 0.6768521070480347\n",
            "generator loss: 1.0314750671386719\n",
            "true\n",
            "critic pred: 0.5030110478401184 (true=1)\n",
            "torch.Size([3, 64, 64])\n"
          ],
          "name": "stdout"
        },
        {
          "output_type": "display_data",
          "data": {
            "image/png": "[encoded data removed]",
            "text/plain": [
              "<PIL.Image.Image image mode=RGB size=64x64 at 0x7F86F94696A0>"
            ]
          },
          "metadata": {
            "tags": []
          }
        },
        {
          "output_type": "stream",
          "text": [
            "pred\n",
            "critic pred: 0.48979270458221436 (true=0)\n",
            "torch.Size([3, 64, 64])\n"
          ],
          "name": "stdout"
        },
        {
          "output_type": "display_data",
          "data": {
            "image/png": "[encoded data removed]",
            "text/plain": [
              "<PIL.Image.Image image mode=RGB size=64x64 at 0x7F86F9469A90>"
            ]
          },
          "metadata": {
            "tags": []
          }
        },
        {
          "output_type": "stream",
          "text": [
            "---\n",
            "epoch 1/1 | 301/391 complete!\n",
            "critic loss: 0.6780350208282471\n",
            "generator loss: 1.0229437351226807\n",
            "true\n",
            "critic pred: 0.4961121082305908 (true=1)\n",
            "torch.Size([3, 64, 64])\n"
          ],
          "name": "stdout"
        },
        {
          "output_type": "display_data",
          "data": {
            "image/png": "[encoded data removed]",
            "text/plain": [
              "<PIL.Image.Image image mode=RGB size=64x64 at 0x7F86F94695C0>"
            ]
          },
          "metadata": {
            "tags": []
          }
        },
        {
          "output_type": "stream",
          "text": [
            "pred\n",
            "critic pred: 0.508658230304718 (true=0)\n",
            "torch.Size([3, 64, 64])\n"
          ],
          "name": "stdout"
        },
        {
          "output_type": "display_data",
          "data": {
            "image/png": "[encoded data removed]",
            "text/plain": [
              "<PIL.Image.Image image mode=RGB size=64x64 at 0x7F86F9469630>"
            ]
          },
          "metadata": {
            "tags": []
          }
        },
        {
          "output_type": "stream",
          "text": [
            "---\n",
            "epoch 1/1 | 326/391 complete!\n",
            "critic loss: 0.6788769960403442\n",
            "generator loss: 1.015815258026123\n",
            "true\n",
            "critic pred: 0.5237158536911011 (true=1)\n",
            "torch.Size([3, 64, 64])\n"
          ],
          "name": "stdout"
        },
        {
          "output_type": "display_data",
          "data": {
            "image/png": "[encoded data removed]",
            "text/plain": [
              "<PIL.Image.Image image mode=RGB size=64x64 at 0x7F86F9469A58>"
            ]
          },
          "metadata": {
            "tags": []
          }
        },
        {
          "output_type": "stream",
          "text": [
            "pred\n",
            "critic pred: 0.5257101058959961 (true=0)\n",
            "torch.Size([3, 64, 64])\n"
          ],
          "name": "stdout"
        },
        {
          "output_type": "display_data",
          "data": {
            "image/png": "[encoded data removed]",
            "text/plain": [
              "<PIL.Image.Image image mode=RGB size=64x64 at 0x7F86F9469630>"
            ]
          },
          "metadata": {
            "tags": []
          }
        },
        {
          "output_type": "stream",
          "text": [
            "---\n",
            "epoch 1/1 | 351/391 complete!\n",
            "critic loss: 0.6796138286590576\n",
            "generator loss: 1.0096464157104492\n",
            "true\n",
            "critic pred: 0.5042465925216675 (true=1)\n",
            "torch.Size([3, 64, 64])\n"
          ],
          "name": "stdout"
        },
        {
          "output_type": "display_data",
          "data": {
            "image/png": "[encoded data removed]",
            "text/plain": [
              "<PIL.Image.Image image mode=RGB size=64x64 at 0x7F86F9469710>"
            ]
          },
          "metadata": {
            "tags": []
          }
        },
        {
          "output_type": "stream",
          "text": [
            "pred\n",
            "critic pred: 0.5062639117240906 (true=0)\n",
            "torch.Size([3, 64, 64])\n"
          ],
          "name": "stdout"
        },
        {
          "output_type": "display_data",
          "data": {
            "image/png": "[encoded data removed]",
            "text/plain": [
              "<PIL.Image.Image image mode=RGB size=64x64 at 0x7F86F9469AC8>"
            ]
          },
          "metadata": {
            "tags": []
          }
        },
        {
          "output_type": "stream",
          "text": [
            "---\n",
            "epoch 1/1 | 376/391 complete!\n",
            "critic loss: 0.6802111268043518\n",
            "generator loss: 1.0041313171386719\n",
            "true\n",
            "critic pred: 0.46527382731437683 (true=1)\n",
            "torch.Size([3, 64, 64])\n"
          ],
          "name": "stdout"
        },
        {
          "output_type": "display_data",
          "data": {
            "image/png": "[encoded data removed]",
            "text/plain": [
              "<PIL.Image.Image image mode=RGB size=64x64 at 0x7F86F94695F8>"
            ]
          },
          "metadata": {
            "tags": []
          }
        },
        {
          "output_type": "stream",
          "text": [
            "pred\n",
            "critic pred: 0.4909825623035431 (true=0)\n",
            "torch.Size([3, 64, 64])\n"
          ],
          "name": "stdout"
        },
        {
          "output_type": "display_data",
          "data": {
            "image/png": "[encoded data removed]",
            "text/plain": [
              "<PIL.Image.Image image mode=RGB size=64x64 at 0x7F86F9469B00>"
            ]
          },
          "metadata": {
            "tags": []
          }
        },
        {
          "output_type": "stream",
          "text": [
            "---\n",
            "[1/1] - ptime: 1816.69, loss: nan\n",
            "Saving Generator and Critic\n",
            "done\n"
          ],
          "name": "stdout"
        }
      ]
    },
    {
      "cell_type": "code",
      "metadata": {
        "id": "NJp5OMI4JAYT",
        "colab_type": "code",
        "outputId": "2954b93c-51b2-467a-fc52-01a6dd9c1092",
        "colab": {
          "base_uri": "https://localhost:8080/",
          "height": 85
        }
      },
      "source": [
        "! ls ./models"
      ],
      "execution_count": 0,
      "outputs": [
        {
          "output_type": "stream",
          "text": [
            "neural_painter_x_non_adversarial_critic_param.pth\n",
            "neural_painter_x_non_adversarial_generator_param.pth\n",
            "neuro_painter_x_final_GAN_critic_param.pth\n",
            "neuro_painter_x_final_GAN_generator_param.pth\n"
          ],
          "name": "stdout"
        }
      ]
    },
    {
      "cell_type": "markdown",
      "metadata": {
        "id": "C9q9am4rWlx9",
        "colab_type": "text"
      },
      "source": [
        "A single epoch fine-tuning the `Generator` and `Critic` helps improving the quality of the brushstrokes. You can try training over a couple of more epochs and monitor how the generated brushstrokes evolve. \n",
        "\n",
        "Now we are ready to paint :)"
      ]
    },
    {
      "cell_type": "markdown",
      "metadata": {
        "id": "wPhT37uEyylX",
        "colab_type": "text"
      },
      "source": [
        "# ~ fin ~"
      ]
    },
    {
      "cell_type": "code",
      "metadata": {
        "id": "BWm0nq42VEbG",
        "colab_type": "code",
        "colab": {}
      },
      "source": [
        ""
      ],
      "execution_count": 0,
      "outputs": []
    }
  ]
}